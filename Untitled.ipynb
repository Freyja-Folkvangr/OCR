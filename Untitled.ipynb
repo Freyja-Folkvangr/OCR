{
 "cells": [
  {
   "cell_type": "markdown",
   "id": "solved-exhibition",
   "metadata": {},
   "source": [
    "# Training the model"
   ]
  },
  {
   "cell_type": "code",
   "execution_count": 17,
   "id": "mature-astrology",
   "metadata": {},
   "outputs": [
    {
     "name": "stdout",
     "output_type": "stream",
     "text": [
      "Collecting keras==2.2.4\n",
      "  Downloading Keras-2.2.4-py2.py3-none-any.whl (312 kB)\n",
      "\u001b[K     |████████████████████████████████| 312 kB 8.1 MB/s eta 0:00:01\n",
      "\u001b[?25hRequirement already satisfied: tensorflow in /Users/gio/opt/miniconda3/lib/python3.8/site-packages (from -r requirements.txt (line 2)) (2.4.1)\n",
      "Requirement already satisfied: six>=1.9.0 in /Users/gio/opt/miniconda3/lib/python3.8/site-packages (from keras==2.2.4->-r requirements.txt (line 1)) (1.15.0)\n",
      "Requirement already satisfied: h5py in /Users/gio/opt/miniconda3/lib/python3.8/site-packages (from keras==2.2.4->-r requirements.txt (line 1)) (3.1.0)\n",
      "Requirement already satisfied: scipy>=0.14 in /Users/gio/opt/miniconda3/lib/python3.8/site-packages (from keras==2.2.4->-r requirements.txt (line 1)) (1.6.0)\n",
      "Requirement already satisfied: numpy>=1.9.1 in /Users/gio/opt/miniconda3/lib/python3.8/site-packages (from keras==2.2.4->-r requirements.txt (line 1)) (1.19.5)\n",
      "Requirement already satisfied: pyyaml in /Users/gio/opt/miniconda3/lib/python3.8/site-packages (from keras==2.2.4->-r requirements.txt (line 1)) (5.4.1)\n",
      "Collecting keras-applications>=1.0.6\n",
      "  Downloading Keras_Applications-1.0.8-py3-none-any.whl (50 kB)\n",
      "\u001b[K     |████████████████████████████████| 50 kB 15.4 MB/s eta 0:00:01\n",
      "\u001b[?25hRequirement already satisfied: keras-preprocessing>=1.0.5 in /Users/gio/opt/miniconda3/lib/python3.8/site-packages (from keras==2.2.4->-r requirements.txt (line 1)) (1.1.2)\n",
      "Requirement already satisfied: wheel~=0.35 in /Users/gio/opt/miniconda3/lib/python3.8/site-packages (from tensorflow->-r requirements.txt (line 2)) (0.35.1)\n",
      "Requirement already satisfied: gast==0.3.3 in /Users/gio/opt/miniconda3/lib/python3.8/site-packages (from tensorflow->-r requirements.txt (line 2)) (0.3.3)\n",
      "Requirement already satisfied: google-pasta~=0.2 in /Users/gio/opt/miniconda3/lib/python3.8/site-packages (from tensorflow->-r requirements.txt (line 2)) (0.2.0)\n",
      "Requirement already satisfied: flatbuffers~=1.12.0 in /Users/gio/opt/miniconda3/lib/python3.8/site-packages (from tensorflow->-r requirements.txt (line 2)) (1.12)\n",
      "Requirement already satisfied: protobuf>=3.9.2 in /Users/gio/opt/miniconda3/lib/python3.8/site-packages (from tensorflow->-r requirements.txt (line 2)) (3.14.0)\n",
      "Requirement already satisfied: tensorboard~=2.4 in /Users/gio/opt/miniconda3/lib/python3.8/site-packages (from tensorflow->-r requirements.txt (line 2)) (2.4.1)\n",
      "Requirement already satisfied: wrapt~=1.12.1 in /Users/gio/opt/miniconda3/lib/python3.8/site-packages (from tensorflow->-r requirements.txt (line 2)) (1.12.1)\n",
      "Requirement already satisfied: grpcio~=1.32.0 in /Users/gio/opt/miniconda3/lib/python3.8/site-packages (from tensorflow->-r requirements.txt (line 2)) (1.32.0)\n",
      "Requirement already satisfied: tensorflow-estimator<2.5.0,>=2.4.0 in /Users/gio/opt/miniconda3/lib/python3.8/site-packages (from tensorflow->-r requirements.txt (line 2)) (2.4.0)\n",
      "Requirement already satisfied: opt-einsum~=3.3.0 in /Users/gio/opt/miniconda3/lib/python3.8/site-packages (from tensorflow->-r requirements.txt (line 2)) (3.3.0)\n",
      "Requirement already satisfied: absl-py~=0.10 in /Users/gio/opt/miniconda3/lib/python3.8/site-packages (from tensorflow->-r requirements.txt (line 2)) (0.11.0)\n",
      "Requirement already satisfied: termcolor~=1.1.0 in /Users/gio/opt/miniconda3/lib/python3.8/site-packages (from tensorflow->-r requirements.txt (line 2)) (1.1.0)\n",
      "Requirement already satisfied: typing-extensions~=3.7.4 in /Users/gio/opt/miniconda3/lib/python3.8/site-packages (from tensorflow->-r requirements.txt (line 2)) (3.7.4.3)\n",
      "Requirement already satisfied: astunparse~=1.6.3 in /Users/gio/opt/miniconda3/lib/python3.8/site-packages (from tensorflow->-r requirements.txt (line 2)) (1.6.3)\n",
      "Requirement already satisfied: google-auth-oauthlib<0.5,>=0.4.1 in /Users/gio/opt/miniconda3/lib/python3.8/site-packages (from tensorboard~=2.4->tensorflow->-r requirements.txt (line 2)) (0.4.2)\n",
      "Requirement already satisfied: requests<3,>=2.21.0 in /Users/gio/opt/miniconda3/lib/python3.8/site-packages (from tensorboard~=2.4->tensorflow->-r requirements.txt (line 2)) (2.24.0)\n",
      "Requirement already satisfied: google-auth<2,>=1.6.3 in /Users/gio/opt/miniconda3/lib/python3.8/site-packages (from tensorboard~=2.4->tensorflow->-r requirements.txt (line 2)) (1.24.0)\n",
      "Requirement already satisfied: markdown>=2.6.8 in /Users/gio/opt/miniconda3/lib/python3.8/site-packages (from tensorboard~=2.4->tensorflow->-r requirements.txt (line 2)) (3.3.3)\n",
      "Requirement already satisfied: tensorboard-plugin-wit>=1.6.0 in /Users/gio/opt/miniconda3/lib/python3.8/site-packages (from tensorboard~=2.4->tensorflow->-r requirements.txt (line 2)) (1.8.0)\n",
      "Requirement already satisfied: setuptools>=41.0.0 in /Users/gio/opt/miniconda3/lib/python3.8/site-packages (from tensorboard~=2.4->tensorflow->-r requirements.txt (line 2)) (50.3.1.post20201107)\n",
      "Requirement already satisfied: werkzeug>=0.11.15 in /Users/gio/opt/miniconda3/lib/python3.8/site-packages (from tensorboard~=2.4->tensorflow->-r requirements.txt (line 2)) (1.0.1)\n",
      "Requirement already satisfied: requests-oauthlib>=0.7.0 in /Users/gio/opt/miniconda3/lib/python3.8/site-packages (from google-auth-oauthlib<0.5,>=0.4.1->tensorboard~=2.4->tensorflow->-r requirements.txt (line 2)) (1.3.0)\n",
      "Requirement already satisfied: urllib3!=1.25.0,!=1.25.1,<1.26,>=1.21.1 in /Users/gio/opt/miniconda3/lib/python3.8/site-packages (from requests<3,>=2.21.0->tensorboard~=2.4->tensorflow->-r requirements.txt (line 2)) (1.25.11)\n",
      "Requirement already satisfied: idna<3,>=2.5 in /Users/gio/opt/miniconda3/lib/python3.8/site-packages (from requests<3,>=2.21.0->tensorboard~=2.4->tensorflow->-r requirements.txt (line 2)) (2.10)\n",
      "Requirement already satisfied: certifi>=2017.4.17 in /Users/gio/opt/miniconda3/lib/python3.8/site-packages (from requests<3,>=2.21.0->tensorboard~=2.4->tensorflow->-r requirements.txt (line 2)) (2020.12.5)\n",
      "Requirement already satisfied: chardet<4,>=3.0.2 in /Users/gio/opt/miniconda3/lib/python3.8/site-packages (from requests<3,>=2.21.0->tensorboard~=2.4->tensorflow->-r requirements.txt (line 2)) (3.0.4)\n",
      "Requirement already satisfied: pyasn1-modules>=0.2.1 in /Users/gio/opt/miniconda3/lib/python3.8/site-packages (from google-auth<2,>=1.6.3->tensorboard~=2.4->tensorflow->-r requirements.txt (line 2)) (0.2.8)\n",
      "Requirement already satisfied: rsa<5,>=3.1.4; python_version >= \"3.6\" in /Users/gio/opt/miniconda3/lib/python3.8/site-packages (from google-auth<2,>=1.6.3->tensorboard~=2.4->tensorflow->-r requirements.txt (line 2)) (4.7)\n",
      "Requirement already satisfied: cachetools<5.0,>=2.0.0 in /Users/gio/opt/miniconda3/lib/python3.8/site-packages (from google-auth<2,>=1.6.3->tensorboard~=2.4->tensorflow->-r requirements.txt (line 2)) (4.2.1)\n",
      "Requirement already satisfied: oauthlib>=3.0.0 in /Users/gio/opt/miniconda3/lib/python3.8/site-packages (from requests-oauthlib>=0.7.0->google-auth-oauthlib<0.5,>=0.4.1->tensorboard~=2.4->tensorflow->-r requirements.txt (line 2)) (3.1.0)\n",
      "Requirement already satisfied: pyasn1<0.5.0,>=0.4.6 in /Users/gio/opt/miniconda3/lib/python3.8/site-packages (from pyasn1-modules>=0.2.1->google-auth<2,>=1.6.3->tensorboard~=2.4->tensorflow->-r requirements.txt (line 2)) (0.4.8)\n",
      "Installing collected packages: keras-applications, keras\n",
      "  Attempting uninstall: keras\n",
      "    Found existing installation: Keras 2.4.3\n",
      "    Uninstalling Keras-2.4.3:\n",
      "      Successfully uninstalled Keras-2.4.3\n",
      "Successfully installed keras-2.2.4 keras-applications-1.0.8\n"
     ]
    }
   ],
   "source": [
    "import sys\n",
    "!{sys.executable} -m pip install -r requirements.txt"
   ]
  },
  {
   "cell_type": "code",
   "execution_count": 18,
   "id": "asian-portal",
   "metadata": {},
   "outputs": [
    {
     "ename": "ImportError",
     "evalue": "cannot import name 'multi_gpu_model' from 'keras.utils' (/Users/gio/opt/miniconda3/lib/python3.8/site-packages/keras/utils/__init__.py)",
     "output_type": "error",
     "traceback": [
      "\u001b[0;31m---------------------------------------------------------------------------\u001b[0m",
      "\u001b[0;31mImportError\u001b[0m                               Traceback (most recent call last)",
      "\u001b[0;32m<ipython-input-18-c9b95195f6cf>\u001b[0m in \u001b[0;36m<module>\u001b[0;34m\u001b[0m\n\u001b[0;32m----> 1\u001b[0;31m \u001b[0;32mimport\u001b[0m \u001b[0mCRNN\u001b[0m\u001b[0;34m.\u001b[0m\u001b[0mtrain\u001b[0m\u001b[0;34m\u001b[0m\u001b[0;34m\u001b[0m\u001b[0m\n\u001b[0m",
      "\u001b[0;32m~/deeplegal-test/CRNN/train.py\u001b[0m in \u001b[0;36m<module>\u001b[0;34m\u001b[0m\n\u001b[1;32m      5\u001b[0m \u001b[0;32mfrom\u001b[0m \u001b[0mkeras\u001b[0m\u001b[0;34m.\u001b[0m\u001b[0moptimizers\u001b[0m \u001b[0;32mimport\u001b[0m \u001b[0mAdam\u001b[0m\u001b[0;34m,\u001b[0m \u001b[0mSGD\u001b[0m\u001b[0;34m\u001b[0m\u001b[0;34m\u001b[0m\u001b[0m\n\u001b[1;32m      6\u001b[0m \u001b[0;32mfrom\u001b[0m \u001b[0mkeras\u001b[0m\u001b[0;34m.\u001b[0m\u001b[0mcallbacks\u001b[0m \u001b[0;32mimport\u001b[0m \u001b[0mReduceLROnPlateau\u001b[0m\u001b[0;34m,\u001b[0m \u001b[0mTensorBoard\u001b[0m\u001b[0;34m\u001b[0m\u001b[0;34m\u001b[0m\u001b[0m\n\u001b[0;32m----> 7\u001b[0;31m \u001b[0;32mfrom\u001b[0m \u001b[0mkeras\u001b[0m\u001b[0;34m.\u001b[0m\u001b[0mutils\u001b[0m \u001b[0;32mimport\u001b[0m \u001b[0mmulti_gpu_model\u001b[0m\u001b[0;34m\u001b[0m\u001b[0;34m\u001b[0m\u001b[0m\n\u001b[0m\u001b[1;32m      8\u001b[0m \u001b[0;32mimport\u001b[0m \u001b[0mkeras\u001b[0m\u001b[0;34m.\u001b[0m\u001b[0mbackend\u001b[0m \u001b[0;32mas\u001b[0m \u001b[0mK\u001b[0m\u001b[0;34m\u001b[0m\u001b[0;34m\u001b[0m\u001b[0m\n\u001b[1;32m      9\u001b[0m \u001b[0;34m\u001b[0m\u001b[0m\n",
      "\u001b[0;31mImportError\u001b[0m: cannot import name 'multi_gpu_model' from 'keras.utils' (/Users/gio/opt/miniconda3/lib/python3.8/site-packages/keras/utils/__init__.py)"
     ]
    }
   ],
   "source": [
    "import CRNN.train"
   ]
  },
  {
   "cell_type": "code",
   "execution_count": null,
   "id": "authorized-hardware",
   "metadata": {},
   "outputs": [],
   "source": []
  },
  {
   "cell_type": "code",
   "execution_count": null,
   "id": "familiar-garlic",
   "metadata": {},
   "outputs": [],
   "source": []
  },
  {
   "cell_type": "code",
   "execution_count": null,
   "id": "laden-center",
   "metadata": {},
   "outputs": [],
   "source": []
  }
 ],
 "metadata": {
  "kernelspec": {
   "display_name": "Python 3",
   "language": "python",
   "name": "python3"
  },
  "language_info": {
   "codemirror_mode": {
    "name": "ipython",
    "version": 3
   },
   "file_extension": ".py",
   "mimetype": "text/x-python",
   "name": "python",
   "nbconvert_exporter": "python",
   "pygments_lexer": "ipython3",
   "version": "3.8.5"
  }
 },
 "nbformat": 4,
 "nbformat_minor": 5
}
